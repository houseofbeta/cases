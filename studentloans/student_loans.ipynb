{
 "cells": [
  {
   "cell_type": "markdown",
   "metadata": {},
   "source": [
    "# House of Beta\n",
    "## Case Student Loans\n",
    "\n",
    "De basisbeurs is returning, but the large majority of students have debts in the form of student loans. In this case, we will explore some calculations involving loans.\n",
    "- How to calculate monthly payments.\n",
    "- Investigate the effects of some future economic scenarios."
   ]
  },
  {
   "cell_type": "markdown",
   "metadata": {},
   "source": [
    "## The basics\n",
    "\n",
    "We start off with the basics"
   ]
  },
  {
   "cell_type": "code",
   "execution_count": 1,
   "metadata": {},
   "outputs": [],
   "source": [
    "notional = 30000\n",
    "annual_interest = 0.0046\n",
    "maturity_in_years = 35"
   ]
  },
  {
   "cell_type": "markdown",
   "metadata": {},
   "source": [
    "## Convert to month\n",
    "As the repayments are monthly, we need to convert the annual interest to a monthly interest.\n",
    "\n",
    "You can use the following formulas to convert to monthly data, with $i^m$ as the monthly interest and $i$ as the annual interest. \n",
    "$$ i^m = (1 + i)^\\frac{1}{12} - 1 $$"
   ]
  },
  {
   "cell_type": "code",
   "execution_count": 2,
   "metadata": {},
   "outputs": [
    {
     "data": {
      "text/plain": [
       "0.00038252750614442554"
      ]
     },
     "execution_count": 2,
     "metadata": {},
     "output_type": "execute_result"
    }
   ],
   "source": [
    "monthly_interest = pow(1+annual_interest, 1/12)-1\n",
    "number_of_payments = maturity_in_years*12\n",
    "monthly_interest"
   ]
  },
  {
   "cell_type": "markdown",
   "metadata": {},
   "source": [
    "## Calculate monthly payments\n",
    "\n",
    "Student loan payments follow a schedule that is known as an annuity. The total payment each period is unchanging.\n",
    "$$ N = P * \\left(\\frac{1 - (1+i^m)^{-n}}{i^m}\\right) $$\n",
    "\n",
    "Here $N$ is the notional, $P$ is the monthly payment and $n$ is the number of payments."
   ]
  },
  {
   "cell_type": "code",
   "execution_count": 3,
   "metadata": {},
   "outputs": [
    {
     "data": {
      "text/plain": [
       "77.33369310581153"
      ]
     },
     "execution_count": 3,
     "metadata": {},
     "output_type": "execute_result"
    }
   ],
   "source": [
    "repayment = notional / ((1 - pow(1+monthly_interest, -number_of_payments))/monthly_interest)\n",
    "repayment"
   ]
  },
  {
   "attachments": {},
   "cell_type": "markdown",
   "metadata": {},
   "source": [
    "## Exercise 1\n",
    "Let's calculate the repayments when the interest increases by 0.10 percentage points every year, and the interest is fixed every year.\n",
    "For the first two years, the loan is frozen. 0% interest and no redemptions needed. After those two years, the interest for the first five years is set to 0.46%"
   ]
  },
  {
   "cell_type": "code",
   "execution_count": 4,
   "metadata": {},
   "outputs": [],
   "source": [
    "import pandas as pd"
   ]
  },
  {
   "cell_type": "code",
   "execution_count": 5,
   "metadata": {},
   "outputs": [
    {
     "data": {
      "text/html": [
       "<div>\n",
       "<style scoped>\n",
       "    .dataframe tbody tr th:only-of-type {\n",
       "        vertical-align: middle;\n",
       "    }\n",
       "\n",
       "    .dataframe tbody tr th {\n",
       "        vertical-align: top;\n",
       "    }\n",
       "\n",
       "    .dataframe thead th {\n",
       "        text-align: right;\n",
       "    }\n",
       "</style>\n",
       "<table border=\"1\" class=\"dataframe\">\n",
       "  <thead>\n",
       "    <tr style=\"text-align: right;\">\n",
       "      <th></th>\n",
       "      <th>payments</th>\n",
       "      <th>month</th>\n",
       "      <th>redemptions</th>\n",
       "      <th>interest</th>\n",
       "      <th>notional</th>\n",
       "    </tr>\n",
       "  </thead>\n",
       "  <tbody>\n",
       "    <tr>\n",
       "      <th>0</th>\n",
       "      <td>77.333693</td>\n",
       "      <td>1</td>\n",
       "      <td>65.857868</td>\n",
       "      <td>11.475825</td>\n",
       "      <td>29934.142132</td>\n",
       "    </tr>\n",
       "    <tr>\n",
       "      <th>1</th>\n",
       "      <td>77.333693</td>\n",
       "      <td>2</td>\n",
       "      <td>65.883060</td>\n",
       "      <td>11.450633</td>\n",
       "      <td>29868.259072</td>\n",
       "    </tr>\n",
       "    <tr>\n",
       "      <th>2</th>\n",
       "      <td>77.333693</td>\n",
       "      <td>3</td>\n",
       "      <td>65.908262</td>\n",
       "      <td>11.425431</td>\n",
       "      <td>29802.350809</td>\n",
       "    </tr>\n",
       "    <tr>\n",
       "      <th>3</th>\n",
       "      <td>77.333693</td>\n",
       "      <td>4</td>\n",
       "      <td>65.933474</td>\n",
       "      <td>11.400219</td>\n",
       "      <td>29736.417335</td>\n",
       "    </tr>\n",
       "    <tr>\n",
       "      <th>4</th>\n",
       "      <td>77.333693</td>\n",
       "      <td>5</td>\n",
       "      <td>65.958696</td>\n",
       "      <td>11.374998</td>\n",
       "      <td>29670.458640</td>\n",
       "    </tr>\n",
       "  </tbody>\n",
       "</table>\n",
       "</div>"
      ],
      "text/plain": [
       "    payments  month  redemptions   interest      notional\n",
       "0  77.333693      1    65.857868  11.475825  29934.142132\n",
       "1  77.333693      2    65.883060  11.450633  29868.259072\n",
       "2  77.333693      3    65.908262  11.425431  29802.350809\n",
       "3  77.333693      4    65.933474  11.400219  29736.417335\n",
       "4  77.333693      5    65.958696  11.374998  29670.458640"
      ]
     },
     "execution_count": 5,
     "metadata": {},
     "output_type": "execute_result"
    }
   ],
   "source": [
    "df = pd.DataFrame({'payments': [repayment for t in range(number_of_payments)], 'month': [t+1 for t in range(number_of_payments)]})\n",
    "df['redemptions'] = df['payments'] * pow(1 + monthly_interest, -(number_of_payments - df['month'] + 1))\n",
    "df['interest'] = df['payments'] - df['redemptions']\n",
    "df['notional'] = notional - df['redemptions'].cumsum()\n",
    "df.head(5)"
   ]
  },
  {
   "cell_type": "code",
   "execution_count": 6,
   "metadata": {},
   "outputs": [
    {
     "data": {
      "text/plain": [
       "<AxesSubplot: xlabel='month'>"
      ]
     },
     "execution_count": 6,
     "metadata": {},
     "output_type": "execute_result"
    },
    {
     "data": {
      "image/png": "[encoded data removed]",
      "text/plain": [
       "<Figure size 640x480 with 1 Axes>"
      ]
     },
     "metadata": {},
     "output_type": "display_data"
    }
   ],
   "source": [
    "\n",
    "df.plot(x='month', y=['payments', 'redemptions', 'interest'])"
   ]
  },
  {
   "attachments": {},
   "cell_type": "markdown",
   "metadata": {},
   "source": [
    "After 5 years, the interest has increased to 0.96%. Find the remaining notional at that time and calculate the new monthly payment.\n",
    "As the exercise is otherwise equal to the calculation we did before, let's create a function for it."
   ]
  },
  {
   "cell_type": "code",
   "execution_count": 7,
   "metadata": {},
   "outputs": [
    {
     "name": "stdout",
     "output_type": "stream",
     "text": [
      "25936.219119939262 0.0007965014393356284 82.89561787015583\n"
     ]
    }
   ],
   "source": [
    "notional_5 = df['notional'][5*12]\n",
    "monthly_interest_5 = pow(1+annual_interest+0.005, 1/12)-1\n",
    "number_of_payments_5 = (maturity_in_years - 5)*12\n",
    "repayment_5 = notional_5 / ((1 - pow(1+monthly_interest_5, -number_of_payments_5))/monthly_interest_5)\n",
    "print(notional_5, monthly_interest_5, repayment_5)"
   ]
  },
  {
   "cell_type": "code",
   "execution_count": 8,
   "metadata": {},
   "outputs": [],
   "source": [
    "def create_loan_schedule(notional, number_of_payments, interest_per_payment_period):\n",
    "    repayment = notional / ((1 - pow(1+interest_per_payment_period, -number_of_payments))/interest_per_payment_period)\n",
    "    dataframe = pd.DataFrame({'payments': [repayment for t in range(number_of_payments)], 'month': [t+1 for t in range(number_of_payments)]})\n",
    "    dataframe['redemptions'] = dataframe['payments'] * pow(1 + interest_per_payment_period, -(number_of_payments - dataframe['month'] + 1))\n",
    "    dataframe['interest'] = dataframe['payments'] - dataframe['redemptions']\n",
    "    dataframe['notional'] = notional - dataframe['redemptions'].cumsum()\n",
    "    return dataframe"
   ]
  },
  {
   "cell_type": "code",
   "execution_count": 9,
   "metadata": {},
   "outputs": [
    {
     "data": {
      "text/html": [
       "<div>\n",
       "<style scoped>\n",
       "    .dataframe tbody tr th:only-of-type {\n",
       "        vertical-align: middle;\n",
       "    }\n",
       "\n",
       "    .dataframe tbody tr th {\n",
       "        vertical-align: top;\n",
       "    }\n",
       "\n",
       "    .dataframe thead th {\n",
       "        text-align: right;\n",
       "    }\n",
       "</style>\n",
       "<table border=\"1\" class=\"dataframe\">\n",
       "  <thead>\n",
       "    <tr style=\"text-align: right;\">\n",
       "      <th></th>\n",
       "      <th>payments</th>\n",
       "      <th>month</th>\n",
       "      <th>redemptions</th>\n",
       "      <th>interest</th>\n",
       "      <th>notional</th>\n",
       "    </tr>\n",
       "  </thead>\n",
       "  <tbody>\n",
       "    <tr>\n",
       "      <th>0</th>\n",
       "      <td>82.895618</td>\n",
       "      <td>1</td>\n",
       "      <td>62.237382</td>\n",
       "      <td>20.658236</td>\n",
       "      <td>25873.981738</td>\n",
       "    </tr>\n",
       "    <tr>\n",
       "      <th>1</th>\n",
       "      <td>82.895618</td>\n",
       "      <td>2</td>\n",
       "      <td>62.286954</td>\n",
       "      <td>20.608664</td>\n",
       "      <td>25811.694784</td>\n",
       "    </tr>\n",
       "    <tr>\n",
       "      <th>2</th>\n",
       "      <td>82.895618</td>\n",
       "      <td>3</td>\n",
       "      <td>62.336566</td>\n",
       "      <td>20.559052</td>\n",
       "      <td>25749.358218</td>\n",
       "    </tr>\n",
       "    <tr>\n",
       "      <th>3</th>\n",
       "      <td>82.895618</td>\n",
       "      <td>4</td>\n",
       "      <td>62.386217</td>\n",
       "      <td>20.509401</td>\n",
       "      <td>25686.972001</td>\n",
       "    </tr>\n",
       "    <tr>\n",
       "      <th>4</th>\n",
       "      <td>82.895618</td>\n",
       "      <td>5</td>\n",
       "      <td>62.435908</td>\n",
       "      <td>20.459710</td>\n",
       "      <td>25624.536093</td>\n",
       "    </tr>\n",
       "  </tbody>\n",
       "</table>\n",
       "</div>"
      ],
      "text/plain": [
       "    payments  month  redemptions   interest      notional\n",
       "0  82.895618      1    62.237382  20.658236  25873.981738\n",
       "1  82.895618      2    62.286954  20.608664  25811.694784\n",
       "2  82.895618      3    62.336566  20.559052  25749.358218\n",
       "3  82.895618      4    62.386217  20.509401  25686.972001\n",
       "4  82.895618      5    62.435908  20.459710  25624.536093"
      ]
     },
     "execution_count": 9,
     "metadata": {},
     "output_type": "execute_result"
    }
   ],
   "source": [
    "df_5 = create_loan_schedule(notional_5, number_of_payments_5, monthly_interest_5)\n",
    "df_5.head(5)"
   ]
  },
  {
   "attachments": {},
   "cell_type": "markdown",
   "metadata": {},
   "source": [
    "And as we do not want to repeat this process another 6 times, we write a loop to do it for us."
   ]
  },
  {
   "cell_type": "code",
   "execution_count": 14,
   "metadata": {},
   "outputs": [],
   "source": [
    "loan_schedules = [df]\n",
    "\n",
    "for period in range(1, 7):\n",
    "    previous_schedule = loan_schedules[-1]\n",
    "    new_notional = previous_schedule['notional'][5*12]\n",
    "    new_monthly_interest = pow(1+annual_interest + 0.005 * period, 1/12)-1\n",
    "    new_number_of_payments = (maturity_in_years - 5 * period)*12\n",
    "    new_loan_schedule = create_loan_schedule(new_notional, new_number_of_payments, new_monthly_interest)\n",
    "    new_loan_schedule['month'] += period * 5 * 12\n",
    "    loan_schedules.append(new_loan_schedule)"
   ]
  },
  {
   "attachments": {},
   "cell_type": "markdown",
   "metadata": {},
   "source": [
    "Now that we have all the repayment schedules, let's paste them on top of each other to see the resulting and final loan schedule."
   ]
  },
  {
   "cell_type": "code",
   "execution_count": 11,
   "metadata": {},
   "outputs": [],
   "source": [
    "final_loan_schedule = pd.concat([loan_schedules[period].iloc[period*12:(period+5)*12] for period in range(0, 7)])\n",
    "   "
   ]
  },
  {
   "cell_type": "code",
   "execution_count": 12,
   "metadata": {},
   "outputs": [
    {
     "data": {
      "text/plain": [
       "<AxesSubplot: xlabel='month'>"
      ]
     },
     "execution_count": 12,
     "metadata": {},
     "output_type": "execute_result"
    },
    {
     "data": {
      "image/png": "[encoded data removed]",
      "text/plain": [
       "<Figure size 640x480 with 1 Axes>"
      ]
     },
     "metadata": {},
     "output_type": "display_data"
    },
    {
     "data": {
      "image/png": "[encoded data removed]",
      "text/plain": [
       "<Figure size 640x480 with 1 Axes>"
      ]
     },
     "metadata": {},
     "output_type": "display_data"
    }
   ],
   "source": [
    "final_loan_schedule.plot(x='month', y=['payments', 'redemptions', 'interest'], kind='line')\n",
    "final_loan_schedule.plot(x='month', y=['notional'], kind='line')"
   ]
  },
  {
   "cell_type": "code",
   "execution_count": null,
   "metadata": {},
   "outputs": [],
   "source": []
  }
 ],
 "metadata": {
  "kernelspec": {
   "display_name": "case",
   "language": "python",
   "name": "python3"
  },
  "language_info": {
   "codemirror_mode": {
    "name": "ipython",
    "version": 3
   },
   "file_extension": ".py",
   "mimetype": "text/x-python",
   "name": "python",
   "nbconvert_exporter": "python",
   "pygments_lexer": "ipython3",
   "version": "3.10.8"
  },
  "orig_nbformat": 4,
  "vscode": {
   "interpreter": {
    "hash": "eae9d0776af55b8b9e374c51bf3555fb3fc9dde71d0f1cd84a6a38987781ca44"
   }
  }
 },
 "nbformat": 4,
 "nbformat_minor": 2
}
