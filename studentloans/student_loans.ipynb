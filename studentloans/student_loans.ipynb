{
 "cells": [
  {
   "cell_type": "markdown",
   "metadata": {},
   "source": [
    "# House of Beta\n",
    "## Case Student Loans\n",
    "\n",
    "De basisbeurs is returning, but the large majority of students have debts in the form of student loans. In this case, we will explore some calculations involving loans.\n",
    "- How to calculate monthly payments.\n",
    "- Investigate the effects of some future economic scenarios."
   ]
  },
  {
   "cell_type": "markdown",
   "metadata": {},
   "source": [
    "## The basics\n",
    "\n",
    "We start off with the basics"
   ]
  },
  {
   "cell_type": "code",
   "execution_count": 1,
   "metadata": {},
   "outputs": [],
   "source": [
    "notional = 30000\n",
    "annual_interest = 0.015\n",
    "maturity_in_years = 30"
   ]
  },
  {
   "cell_type": "markdown",
   "metadata": {},
   "source": [
    "## Convert to month\n",
    "As the repayments are monthly, we need to convert the annual interest to a monthly interest.\n",
    "\n",
    "You can use the following formulas to convert to monthly data, with $i^m$ as the monthly interest and $i$ as the annual interest. \n",
    "$$ i^m = (1 + i)^\\frac{1}{12} - 1 $$"
   ]
  },
  {
   "cell_type": "code",
   "execution_count": 2,
   "metadata": {},
   "outputs": [
    {
     "data": {
      "text/plain": [
       "0.0012414877164492744"
      ]
     },
     "execution_count": 2,
     "metadata": {},
     "output_type": "execute_result"
    }
   ],
   "source": [
    "monthly_interest = pow(1+annual_interest, 1/12)-1\n",
    "number_of_payments = maturity_in_years*12\n",
    "monthly_interest"
   ]
  },
  {
   "cell_type": "markdown",
   "metadata": {},
   "source": [
    "## Calculate monthly payments\n",
    "\n",
    "Student loan payments follow a schedule that is known as an annuity. The total payment each period is unchanging.\n",
    "$$ N = P * \\left(\\frac{1 - (1+i^m)^{-n}}{i^m}\\right) $$\n",
    "\n",
    "Here $N$ is the notional, $P$ is the monthly payment and $n$ is the number of payments."
   ]
  },
  {
   "cell_type": "code",
   "execution_count": 3,
   "metadata": {},
   "outputs": [
    {
     "data": {
      "text/plain": [
       "103.38908149922052"
      ]
     },
     "execution_count": 3,
     "metadata": {},
     "output_type": "execute_result"
    }
   ],
   "source": [
    "repayment = notional / ((1 - pow(1+monthly_interest, -number_of_payments))/monthly_interest)\n",
    "repayment"
   ]
  },
  {
   "cell_type": "markdown",
   "metadata": {},
   "source": [
    "## Visualize payments over time"
   ]
  },
  {
   "cell_type": "code",
   "execution_count": 4,
   "metadata": {},
   "outputs": [],
   "source": [
    "import pandas as pd"
   ]
  },
  {
   "cell_type": "markdown",
   "metadata": {},
   "source": []
  },
  {
   "cell_type": "code",
   "execution_count": 8,
   "metadata": {},
   "outputs": [
    {
     "data": {
      "text/plain": [
       "<AxesSubplot: >"
      ]
     },
     "execution_count": 8,
     "metadata": {},
     "output_type": "execute_result"
    },
    {
     "data": {
      "image/png": "[encoded data removed]",
      "text/plain": [
       "<Figure size 640x480 with 1 Axes>"
      ]
     },
     "metadata": {},
     "output_type": "display_data"
    }
   ],
   "source": [
    "df = pd.DataFrame([repayment for t in range(number_of_payments)], index = [t+1 for t in range(number_of_payments)], columns=['payments'])\n",
    "df.head()\n",
    "df.plot()"
   ]
  },
  {
   "cell_type": "code",
   "execution_count": null,
   "metadata": {},
   "outputs": [],
   "source": []
  }
 ],
 "metadata": {
  "kernelspec": {
   "display_name": "case",
   "language": "python",
   "name": "python3"
  },
  "language_info": {
   "codemirror_mode": {
    "name": "ipython",
    "version": 3
   },
   "file_extension": ".py",
   "mimetype": "text/x-python",
   "name": "python",
   "nbconvert_exporter": "python",
   "pygments_lexer": "ipython3",
   "version": "3.10.8"
  },
  "orig_nbformat": 4,
  "vscode": {
   "interpreter": {
    "hash": "eae9d0776af55b8b9e374c51bf3555fb3fc9dde71d0f1cd84a6a38987781ca44"
   }
  }
 },
 "nbformat": 4,
 "nbformat_minor": 2
}
